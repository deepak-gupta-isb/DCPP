{
 "cells": [
  {
   "cell_type": "code",
   "execution_count": 164,
   "id": "a35862fb",
   "metadata": {},
   "outputs": [],
   "source": [
    "import numpy as np\n",
    "import pandas as pd\n",
    "import warnings\n",
    "warnings.filterwarnings(action = 'ignore')"
   ]
  },
  {
   "cell_type": "code",
   "execution_count": 165,
   "id": "321a7a61",
   "metadata": {},
   "outputs": [],
   "source": [
    "from cleantext import clean"
   ]
  },
  {
   "cell_type": "code",
   "execution_count": 166,
   "id": "1532c951",
   "metadata": {},
   "outputs": [],
   "source": [
    "df = pd.read_excel('reviews.xlsx')"
   ]
  },
  {
   "cell_type": "code",
   "execution_count": 167,
   "id": "babaf5a6",
   "metadata": {},
   "outputs": [],
   "source": [
    "# Removing <span> and </span> tags and Emojis"
   ]
  },
  {
   "cell_type": "code",
   "execution_count": 168,
   "id": "2e5411b5",
   "metadata": {},
   "outputs": [],
   "source": [
    "review = []\n",
    "for x in df['review'].values:\n",
    "    z = x.strip(\"<span>\").strip(\"</\")\n",
    "    z1 = clean(z, no_emoji=True)\n",
    "    review.append(z1)"
   ]
  },
  {
   "cell_type": "code",
   "execution_count": 169,
   "id": "4e753353",
   "metadata": {},
   "outputs": [],
   "source": [
    "df1 = df.copy()\n",
    "df1['review'] = review"
   ]
  },
  {
   "cell_type": "code",
   "execution_count": 170,
   "id": "b56f906b",
   "metadata": {},
   "outputs": [],
   "source": [
    "# Removing Duplicates"
   ]
  },
  {
   "cell_type": "code",
   "execution_count": 171,
   "id": "4bdfccd2",
   "metadata": {},
   "outputs": [
    {
     "data": {
      "text/plain": [
       "0        False\n",
       "1        False\n",
       "2        False\n",
       "3        False\n",
       "4        False\n",
       "         ...  \n",
       "72774    False\n",
       "72775    False\n",
       "72776    False\n",
       "72777    False\n",
       "72778    False\n",
       "Length: 580, dtype: bool"
      ]
     },
     "execution_count": 171,
     "metadata": {},
     "output_type": "execute_result"
    }
   ],
   "source": [
    "df1.duplicated(['sku_asin_rev','reviwer','review'])[df1.duplicated(['sku_asin_rev','reviwer','review'])==False]"
   ]
  },
  {
   "cell_type": "code",
   "execution_count": 172,
   "id": "70dc5059",
   "metadata": {},
   "outputs": [],
   "source": [
    "df1.drop_duplicates(['sku_asin_rev','reviwer','review'], inplace = True)"
   ]
  },
  {
   "cell_type": "code",
   "execution_count": 174,
   "id": "509d64ae",
   "metadata": {},
   "outputs": [],
   "source": [
    "# Remaining Text Cleaning like removing punctuation"
   ]
  },
  {
   "cell_type": "code",
   "execution_count": 175,
   "id": "2b9930a6",
   "metadata": {},
   "outputs": [],
   "source": [
    "str1 = []\n",
    "for x in df1['review'].values:\n",
    "    j = ''\n",
    "    for y in x:\n",
    "        if (y in string.punctuation)==True:\n",
    "            continue\n",
    "        else:\n",
    "            j = j+y\n",
    "    str1.append(j)"
   ]
  },
  {
   "cell_type": "code",
   "execution_count": 176,
   "id": "c6f25edc",
   "metadata": {},
   "outputs": [],
   "source": [
    "# Sentiment Analysis"
   ]
  },
  {
   "cell_type": "code",
   "execution_count": 177,
   "id": "1675a8d0",
   "metadata": {},
   "outputs": [],
   "source": [
    "import string\n",
    "import nltk\n",
    "from nltk.corpus import stopwords\n",
    "from nltk.tokenize import word_tokenize\n",
    "from nltk.sentiment.vader import SentimentIntensityAnalyzer"
   ]
  },
  {
   "cell_type": "code",
   "execution_count": 178,
   "id": "7ecd1618",
   "metadata": {},
   "outputs": [
    {
     "name": "stderr",
     "output_type": "stream",
     "text": [
      "[nltk_data] Downloading package vader_lexicon to\n",
      "[nltk_data]     C:\\Users\\psure\\AppData\\Roaming\\nltk_data...\n",
      "[nltk_data]   Package vader_lexicon is already up-to-date!\n"
     ]
    },
    {
     "data": {
      "text/plain": [
       "True"
      ]
     },
     "execution_count": 178,
     "metadata": {},
     "output_type": "execute_result"
    }
   ],
   "source": [
    "nltk.downloader.download('vader_lexicon')"
   ]
  },
  {
   "cell_type": "code",
   "execution_count": 179,
   "id": "6763d46a",
   "metadata": {},
   "outputs": [
    {
     "name": "stderr",
     "output_type": "stream",
     "text": [
      "[nltk_data] Downloading package stopwords to\n",
      "[nltk_data]     C:\\Users\\psure\\AppData\\Roaming\\nltk_data...\n",
      "[nltk_data]   Package stopwords is already up-to-date!\n"
     ]
    },
    {
     "data": {
      "text/plain": [
       "True"
      ]
     },
     "execution_count": 179,
     "metadata": {},
     "output_type": "execute_result"
    }
   ],
   "source": [
    "nltk.download(\"stopwords\")"
   ]
  },
  {
   "cell_type": "code",
   "execution_count": null,
   "id": "fa44f8e7",
   "metadata": {},
   "outputs": [],
   "source": [
    "# Removing Stopwords"
   ]
  },
  {
   "cell_type": "code",
   "execution_count": 183,
   "id": "7192a6fc",
   "metadata": {},
   "outputs": [],
   "source": [
    "list2 = []\n",
    "for x in str1:\n",
    "    l1 = []\n",
    "    str1 = \"\"\n",
    "    z = x.split()\n",
    "    for y in z:\n",
    "        if (y in stopwords.words('english')) == True:\n",
    "            continue\n",
    "        else:\n",
    "            l1.append(y)\n",
    "    for g in l1:\n",
    "        str1 = str1+g+\" \"\n",
    "    list2.append(str1.strip())"
   ]
  },
  {
   "cell_type": "code",
   "execution_count": null,
   "id": "b8311e4d",
   "metadata": {},
   "outputs": [],
   "source": [
    "# Calculating Sentiment Score"
   ]
  },
  {
   "cell_type": "code",
   "execution_count": 184,
   "id": "9bb694ba",
   "metadata": {},
   "outputs": [],
   "source": [
    "sentiment = []\n",
    "for x in list2:\n",
    "    score = SentimentIntensityAnalyzer().polarity_scores(x)\n",
    "    if score['compound'] <=-0.05:\n",
    "        sentiment.append('Negative')\n",
    "    elif score['compound']>-0.05 and score['compound']<=0.05:\n",
    "        sentiment.append('Neutral')\n",
    "    else:\n",
    "        sentiment.append('Positive')"
   ]
  },
  {
   "cell_type": "code",
   "execution_count": 185,
   "id": "51f890fa",
   "metadata": {},
   "outputs": [],
   "source": [
    "df1['Cleaned Reviews'] = list2\n",
    "df1['Sentiment'] = sentiment"
   ]
  },
  {
   "cell_type": "code",
   "execution_count": 186,
   "id": "9ddf6cc5",
   "metadata": {},
   "outputs": [],
   "source": [
    "df2 = df1.reset_index().drop('index',1)"
   ]
  },
  {
   "cell_type": "code",
   "execution_count": 187,
   "id": "76e146a0",
   "metadata": {},
   "outputs": [
    {
     "data": {
      "text/html": [
       "<div>\n",
       "<style scoped>\n",
       "    .dataframe tbody tr th:only-of-type {\n",
       "        vertical-align: middle;\n",
       "    }\n",
       "\n",
       "    .dataframe tbody tr th {\n",
       "        vertical-align: top;\n",
       "    }\n",
       "\n",
       "    .dataframe thead th {\n",
       "        text-align: right;\n",
       "    }\n",
       "</style>\n",
       "<table border=\"1\" class=\"dataframe\">\n",
       "  <thead>\n",
       "    <tr style=\"text-align: right;\">\n",
       "      <th></th>\n",
       "      <th>sku_asin_rev</th>\n",
       "      <th>review_id</th>\n",
       "      <th>reviwer</th>\n",
       "      <th>review</th>\n",
       "      <th>Cleaned Reviews</th>\n",
       "      <th>Sentiment</th>\n",
       "    </tr>\n",
       "  </thead>\n",
       "  <tbody>\n",
       "    <tr>\n",
       "      <th>0</th>\n",
       "      <td>B092CNSSV5</td>\n",
       "      <td>R3QOMSGG2CVIHQ</td>\n",
       "      <td>Ramkrishna Mondal</td>\n",
       "      <td>overpriced</td>\n",
       "      <td>overpriced</td>\n",
       "      <td>Neutral</td>\n",
       "    </tr>\n",
       "    <tr>\n",
       "      <th>1</th>\n",
       "      <td>B092CNSSV5</td>\n",
       "      <td>R25IF944OV2BTK</td>\n",
       "      <td>Abhinav J</td>\n",
       "      <td>too expensive...ftw</td>\n",
       "      <td>expensiveftw</td>\n",
       "      <td>Neutral</td>\n",
       "    </tr>\n",
       "    <tr>\n",
       "      <th>2</th>\n",
       "      <td>B092CNSSV5</td>\n",
       "      <td>R171EE0AJPSPD8</td>\n",
       "      <td>Allimuthu</td>\n",
       "      <td>this is a lhr card</td>\n",
       "      <td>lhr card</td>\n",
       "      <td>Neutral</td>\n",
       "    </tr>\n",
       "    <tr>\n",
       "      <th>3</th>\n",
       "      <td>B092CNSSV5</td>\n",
       "      <td>RJUW05ML5K85W</td>\n",
       "      <td>Reena Srivastava</td>\n",
       "      <td>bruh</td>\n",
       "      <td>bruh</td>\n",
       "      <td>Neutral</td>\n",
       "    </tr>\n",
       "    <tr>\n",
       "      <th>4</th>\n",
       "      <td>B092CNSSV5</td>\n",
       "      <td>R3LIKTFSXRVGFR</td>\n",
       "      <td>Saurav Goswami</td>\n",
       "      <td>35,000</td>\n",
       "      <td>35000</td>\n",
       "      <td>Neutral</td>\n",
       "    </tr>\n",
       "    <tr>\n",
       "      <th>...</th>\n",
       "      <td>...</td>\n",
       "      <td>...</td>\n",
       "      <td>...</td>\n",
       "      <td>...</td>\n",
       "      <td>...</td>\n",
       "      <td>...</td>\n",
       "    </tr>\n",
       "    <tr>\n",
       "      <th>575</th>\n",
       "      <td>B088X1NTB4</td>\n",
       "      <td>R2SE8CVRPKTET</td>\n",
       "      <td>xavier</td>\n",
       "      <td>worst experience after less than a month of use</td>\n",
       "      <td>worst experience less month use</td>\n",
       "      <td>Negative</td>\n",
       "    </tr>\n",
       "    <tr>\n",
       "      <th>576</th>\n",
       "      <td>B088X1NTB4</td>\n",
       "      <td>R215I6QYDFJV6D</td>\n",
       "      <td>BHARATH K.</td>\n",
       "      <td>good budget graphic card</td>\n",
       "      <td>good budget graphic card</td>\n",
       "      <td>Positive</td>\n",
       "    </tr>\n",
       "    <tr>\n",
       "      <th>577</th>\n",
       "      <td>B088X1NTB4</td>\n",
       "      <td>R3B4MBAR8CWVCR</td>\n",
       "      <td>Tarit Kumar Pal</td>\n",
       "      <td>good entry level graphics card</td>\n",
       "      <td>good entry level graphics card</td>\n",
       "      <td>Positive</td>\n",
       "    </tr>\n",
       "    <tr>\n",
       "      <th>578</th>\n",
       "      <td>B088X1NTB4</td>\n",
       "      <td>R3LY4OY4T6KO8T</td>\n",
       "      <td>Gurpreet</td>\n",
       "      <td>for medium gamers</td>\n",
       "      <td>medium gamers</td>\n",
       "      <td>Neutral</td>\n",
       "    </tr>\n",
       "    <tr>\n",
       "      <th>579</th>\n",
       "      <td>B088X1NTB4</td>\n",
       "      <td>R8385L38DFCMA</td>\n",
       "      <td>Bhuwnesh</td>\n",
       "      <td>good build quality.. avg performance.</td>\n",
       "      <td>good build quality avg performance</td>\n",
       "      <td>Positive</td>\n",
       "    </tr>\n",
       "  </tbody>\n",
       "</table>\n",
       "<p>580 rows × 6 columns</p>\n",
       "</div>"
      ],
      "text/plain": [
       "    sku_asin_rev       review_id            reviwer  \\\n",
       "0     B092CNSSV5  R3QOMSGG2CVIHQ  Ramkrishna Mondal   \n",
       "1     B092CNSSV5  R25IF944OV2BTK          Abhinav J   \n",
       "2     B092CNSSV5  R171EE0AJPSPD8          Allimuthu   \n",
       "3     B092CNSSV5   RJUW05ML5K85W   Reena Srivastava   \n",
       "4     B092CNSSV5  R3LIKTFSXRVGFR     Saurav Goswami   \n",
       "..           ...             ...                ...   \n",
       "575   B088X1NTB4   R2SE8CVRPKTET             xavier   \n",
       "576   B088X1NTB4  R215I6QYDFJV6D         BHARATH K.   \n",
       "577   B088X1NTB4  R3B4MBAR8CWVCR    Tarit Kumar Pal   \n",
       "578   B088X1NTB4  R3LY4OY4T6KO8T           Gurpreet   \n",
       "579   B088X1NTB4   R8385L38DFCMA           Bhuwnesh   \n",
       "\n",
       "                                              review  \\\n",
       "0                                         overpriced   \n",
       "1                                too expensive...ftw   \n",
       "2                                 this is a lhr card   \n",
       "3                                               bruh   \n",
       "4                                             35,000   \n",
       "..                                               ...   \n",
       "575  worst experience after less than a month of use   \n",
       "576                         good budget graphic card   \n",
       "577                   good entry level graphics card   \n",
       "578                                for medium gamers   \n",
       "579            good build quality.. avg performance.   \n",
       "\n",
       "                        Cleaned Reviews Sentiment  \n",
       "0                            overpriced   Neutral  \n",
       "1                          expensiveftw   Neutral  \n",
       "2                              lhr card   Neutral  \n",
       "3                                  bruh   Neutral  \n",
       "4                                 35000   Neutral  \n",
       "..                                  ...       ...  \n",
       "575     worst experience less month use  Negative  \n",
       "576            good budget graphic card  Positive  \n",
       "577      good entry level graphics card  Positive  \n",
       "578                       medium gamers   Neutral  \n",
       "579  good build quality avg performance  Positive  \n",
       "\n",
       "[580 rows x 6 columns]"
      ]
     },
     "execution_count": 187,
     "metadata": {},
     "output_type": "execute_result"
    }
   ],
   "source": [
    "df2"
   ]
  },
  {
   "cell_type": "code",
   "execution_count": null,
   "id": "a4e1a08c",
   "metadata": {},
   "outputs": [],
   "source": [
    "# Exporting Processed Data to JSON and Excel"
   ]
  },
  {
   "cell_type": "raw",
   "id": "bf777655",
   "metadata": {},
   "source": [
    "df2.to_excel('Review.xlsx')"
   ]
  },
  {
   "cell_type": "raw",
   "id": "3d78192f",
   "metadata": {},
   "source": [
    "df2.to_json('Reviews.json')"
   ]
  }
 ],
 "metadata": {
  "kernelspec": {
   "display_name": "Python 3",
   "language": "python",
   "name": "python3"
  },
  "language_info": {
   "codemirror_mode": {
    "name": "ipython",
    "version": 3
   },
   "file_extension": ".py",
   "mimetype": "text/x-python",
   "name": "python",
   "nbconvert_exporter": "python",
   "pygments_lexer": "ipython3",
   "version": "3.8.8"
  }
 },
 "nbformat": 4,
 "nbformat_minor": 5
}
